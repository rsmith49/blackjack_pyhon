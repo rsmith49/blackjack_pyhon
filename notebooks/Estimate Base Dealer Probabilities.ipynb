{
 "cells": [
  {
   "cell_type": "code",
   "execution_count": 1,
   "metadata": {},
   "outputs": [
    {
     "name": "stdout",
     "output_type": "stream",
     "text": [
      "/Users/rsmith/PycharmProjects/blackjack_python\n"
     ]
    }
   ],
   "source": [
    "cd .."
   ]
  },
  {
   "cell_type": "code",
   "execution_count": 2,
   "metadata": {
    "collapsed": true
   },
   "outputs": [],
   "source": [
    "import numpy as np\n",
    "import pandas as pd\n",
    "import pickle\n",
    "\n",
    "from collections import Counter\n",
    "from matplotlib import pyplot as plt\n",
    "\n",
    "from src.simulator import Deck, Player, BaseGame\n",
    "from src.agents.betting import ZeroBettingAgent\n",
    "from src.agents.dealers import SimpleDealer\n",
    "from src.utils import tic, toc\n",
    "\n",
    "%matplotlib inline"
   ]
  },
  {
   "cell_type": "code",
   "execution_count": 4,
   "metadata": {
    "collapsed": true
   },
   "outputs": [],
   "source": [
    "class StatsGame(BaseGame):\n",
    "    def __init__(self, *args, **kwargs):\n",
    "        super(StatsGame, self).__init__(*args, **kwargs)\n",
    "        \n",
    "        self.data = {\n",
    "            'dealer_start': [],\n",
    "            'dealer_result': []\n",
    "        }\n",
    "    \n",
    "    def record_stats(self):\n",
    "        all_busted = True\n",
    "        for player in self.players:\n",
    "            if not player.all_busts():\n",
    "                all_busted = False\n",
    "                break\n",
    "        \n",
    "        if all_busted:\n",
    "            return\n",
    "        \n",
    "        self.data['dealer_start'].append(self.dealer.hands[0].cards[0])\n",
    "        self.data['dealer_result'].append(self.dealer.hands[0].value())\n",
    "    \n",
    "    def to_df(self):\n",
    "        return pd.DataFrame(self.data)\n"
   ]
  },
  {
   "cell_type": "code",
   "execution_count": 5,
   "metadata": {},
   "outputs": [
    {
     "name": "stdout",
     "output_type": "stream",
     "text": [
      "133.57019305229187\n"
     ]
    }
   ],
   "source": [
    "game = StatsGame(\n",
    "    Deck(),\n",
    "    SimpleDealer(),\n",
    "    Player(SimpleDealer(), ZeroBettingAgent())\n",
    ")\n",
    "\n",
    "tic()\n",
    "for _ in range(100000):\n",
    "    game.play_chute()\n",
    "    game.deck.shuffle()\n",
    "\n",
    "toc()"
   ]
  },
  {
   "cell_type": "code",
   "execution_count": 30,
   "metadata": {
    "collapsed": true
   },
   "outputs": [],
   "source": [
    "df = game.to_df()\n",
    "df['dealer_end'] = df['dealer_result'].clip(None, 22)"
   ]
  },
  {
   "cell_type": "code",
   "execution_count": 31,
   "metadata": {},
   "outputs": [
    {
     "data": {
      "text/plain": [
       "22    913377\n",
       "20    578867\n",
       "18    451260\n",
       "19    434147\n",
       "17    426411\n",
       "21    391831\n",
       "Name: dealer_end, dtype: int64"
      ]
     },
     "execution_count": 31,
     "metadata": {},
     "output_type": "execute_result"
    }
   ],
   "source": [
    "df['dealer_end'].value_counts()"
   ]
  },
  {
   "cell_type": "code",
   "execution_count": 9,
   "metadata": {},
   "outputs": [
    {
     "data": {
      "text/plain": [
       "10    984770\n",
       "2     246697\n",
       "4     246300\n",
       "5     245914\n",
       "6     245828\n",
       "3     245765\n",
       "1     245615\n",
       "9     245343\n",
       "8     244917\n",
       "7     244744\n",
       "Name: dealer_start, dtype: int64"
      ]
     },
     "execution_count": 9,
     "metadata": {},
     "output_type": "execute_result"
    }
   ],
   "source": [
    "df['dealer_start'].value_counts()"
   ]
  },
  {
   "cell_type": "code",
   "execution_count": 13,
   "metadata": {},
   "outputs": [
    {
     "data": {
      "image/png": "[encoded data removed]",
      "text/plain": [
       "<Figure size 432x288 with 1 Axes>"
      ]
     },
     "metadata": {
      "needs_background": "light"
     },
     "output_type": "display_data"
    },
    {
     "data": {
      "text/plain": [
       "20    578867\n",
       "18    451260\n",
       "19    434147\n",
       "17    426411\n",
       "21    391831\n",
       "22    235107\n",
       "23    210039\n",
       "24    183319\n",
       "25    156823\n",
       "26    128089\n",
       "Name: dealer_result, dtype: int64"
      ]
     },
     "execution_count": 13,
     "metadata": {},
     "output_type": "execute_result"
    }
   ],
   "source": [
    "df['dealer_result'].hist(bins=10)\n",
    "plt.show()\n",
    "df['dealer_result'].value_counts()"
   ]
  },
  {
   "cell_type": "code",
   "execution_count": 6,
   "metadata": {},
   "outputs": [
    {
     "data": {
      "text/plain": [
       "0          None\n",
       "1          None\n",
       "2          None\n",
       "3          None\n",
       "4          None\n",
       "           ... \n",
       "3195888    None\n",
       "3195889    None\n",
       "3195890    None\n",
       "3195891    None\n",
       "3195892    None\n",
       "Length: 3195893, dtype: object"
      ]
     },
     "execution_count": 6,
     "metadata": {},
     "output_type": "execute_result"
    }
   ],
   "source": [
    "counter =  Counter()\n",
    "\n",
    "df.apply(\n",
    "    lambda row: counter.update(\n",
    "        [(row['dealer_start'], row['dealer_end'])]\n",
    "    ),\n",
    "    axis=1\n",
    ")"
   ]
  },
  {
   "cell_type": "code",
   "execution_count": 20,
   "metadata": {},
   "outputs": [
    {
     "data": {
      "text/plain": [
       "[((10, 20), 333511),\n",
       " ((10, 22), 209727),\n",
       " ((10, 21), 110749),\n",
       " ((10, 17), 110378),\n",
       " ((10, 19), 110306)]"
      ]
     },
     "execution_count": 20,
     "metadata": {},
     "output_type": "execute_result"
    }
   ],
   "source": [
    "sorted(counter.items(), key=lambda x: -x[1])[:5]"
   ]
  },
  {
   "cell_type": "code",
   "execution_count": 10,
   "metadata": {},
   "outputs": [
    {
     "data": {
      "text/plain": [
       "True"
      ]
     },
     "execution_count": 10,
     "metadata": {},
     "output_type": "execute_result"
    }
   ],
   "source": [
    "sum(counter.values()) == len(df)"
   ]
  },
  {
   "cell_type": "code",
   "execution_count": 30,
   "metadata": {
    "collapsed": true
   },
   "outputs": [],
   "source": [
    "probs = {\n",
    "    key: counter[key] * 1.0 / len(df)\n",
    "    for key in counter\n",
    "}\n",
    "\n",
    "conditional_probs = {\n",
    "    (start_key, end_key): counter[(start_key, end_key)] * 1.0 / sum([\n",
    "        counter[(start_key, ndx)] for ndx in range(17, 23)\n",
    "    ])\n",
    "    for start_key, end_key in counter\n",
    "}"
   ]
  },
  {
   "cell_type": "code",
   "execution_count": 31,
   "metadata": {},
   "outputs": [
    {
     "name": "stdout",
     "output_type": "stream",
     "text": [
      "1: 0.9999999999999999\n",
      "2: 1.0\n",
      "3: 1.0\n",
      "4: 1.0\n",
      "5: 1.0\n",
      "6: 1.0\n",
      "7: 1.0\n",
      "8: 0.9999999999999999\n",
      "9: 1.0\n",
      "10: 1.0\n"
     ]
    }
   ],
   "source": [
    "# Reality Check\n",
    "for ndx in range(1, 11):\n",
    "    print(f\"{ndx}: {sum([conditional_probs[(ndx, val)] for val in range(17, 23)])}\")"
   ]
  },
  {
   "cell_type": "code",
   "execution_count": 33,
   "metadata": {},
   "outputs": [
    {
     "data": {
      "text/plain": [
       "[((6, 22), 0.43901833802496054),\n",
       " ((5, 22), 0.41902860349553095),\n",
       " ((4, 22), 0.3956475842468534),\n",
       " ((3, 22), 0.3776412426504995),\n",
       " ((1, 21), 0.37367831769232335),\n",
       " ((7, 17), 0.36820105906579936),\n",
       " ((8, 18), 0.3580723265432779),\n",
       " ((2, 22), 0.35756819093868186),\n",
       " ((9, 19), 0.3531423354242835),\n",
       " ((10, 20), 0.3386689277699361),\n",
       " ((7, 22), 0.260496682247573),\n",
       " ((8, 22), 0.24626710273276253),\n",
       " ((9, 22), 0.22856572227452995),\n",
       " ((10, 22), 0.21297054134467946),\n",
       " ((1, 19), 0.14342365083565742),\n",
       " ((1, 18), 0.14326893715774688),\n",
       " ((1, 20), 0.14272743928505996),\n",
       " ((7, 18), 0.14057137253620108),\n",
       " ((1, 22), 0.13869266942165584),\n",
       " ((2, 18), 0.13609407491781417),\n",
       " ((2, 19), 0.13208916200845572),\n",
       " ((3, 18), 0.13103574552926575),\n",
       " ((8, 17), 0.1299378973284827),\n",
       " ((2, 17), 0.1290084597704877),\n",
       " ((8, 19), 0.127149197483229),\n",
       " ((3, 19), 0.12697495575041198),\n",
       " ((4, 18), 0.1265692245229395),\n",
       " ((3, 17), 0.12619372164466056),\n",
       " ((2, 20), 0.1256885977535195),\n",
       " ((5, 18), 0.12330326862236392),\n",
       " ((4, 17), 0.12280552172147788),\n",
       " ((4, 19), 0.12276492082825823),\n",
       " ((3, 20), 0.12175859052346755),\n",
       " ((9, 20), 0.12041916826646776),\n",
       " ((9, 17), 0.11979962746033104),\n",
       " ((2, 21), 0.11955151461104108),\n",
       " ((5, 19), 0.11801686768545101),\n",
       " ((4, 20), 0.11799837596427121),\n",
       " ((5, 17), 0.11792740551574941),\n",
       " ((9, 18), 0.1167426826932091),\n",
       " ((3, 21), 0.11639574390169471),\n",
       " ((6, 19), 0.11636184649429683),\n",
       " ((6, 17), 0.1151943635387344),\n",
       " ((4, 21), 0.11421437271619976),\n",
       " ((6, 18), 0.11371365344875278),\n",
       " ((5, 20), 0.11248241255072912),\n",
       " ((10, 21), 0.11246179310905084),\n",
       " ((10, 17), 0.11208505539364522),\n",
       " ((10, 19), 0.11201194187475248),\n",
       " ((10, 18), 0.11180174050793586),\n",
       " ((6, 20), 0.10994679206599736),\n",
       " ((5, 21), 0.10924144213017559),\n",
       " ((6, 21), 0.10576500642725808),\n",
       " ((7, 20), 0.07842888896152715),\n",
       " ((7, 19), 0.07835125682345635),\n",
       " ((7, 21), 0.07395074036544308),\n",
       " ((8, 21), 0.06966033390903857),\n",
       " ((8, 20), 0.06891314200320925),\n",
       " ((9, 21), 0.0613304638811786),\n",
       " ((1, 17), 0.058208985607556545)]"
      ]
     },
     "execution_count": 33,
     "metadata": {},
     "output_type": "execute_result"
    }
   ],
   "source": [
    "sorted(conditional_probs.items(), key=lambda x: -x[1])"
   ]
  },
  {
   "cell_type": "code",
   "execution_count": 38,
   "metadata": {
    "collapsed": true
   },
   "outputs": [],
   "source": [
    "with open('data/tmp/dealer_result_probs.pkl', 'wb') as tmp_file:\n",
    "    pickle.dump(probs, tmp_file)\n",
    "with open('data/tmp/dealer_result_conditional_probs.pkl', 'wb') as tmp_file:\n",
    "    pickle.dump(conditional_probs, tmp_file)"
   ]
  },
  {
   "cell_type": "markdown",
   "metadata": {},
   "source": [
    "## Save and Load"
   ]
  },
  {
   "cell_type": "code",
   "execution_count": 44,
   "metadata": {
    "collapsed": true
   },
   "outputs": [],
   "source": [
    "df.to_csv('data/tmp/dealer_expectation_output_100000_chutes.csv.csv', index=False)"
   ]
  },
  {
   "cell_type": "code",
   "execution_count": 5,
   "metadata": {
    "collapsed": true
   },
   "outputs": [],
   "source": [
    "df = pd.read_csv('data/tmp/dealer_expectation_output_100000_chutes.csv')"
   ]
  },
  {
   "cell_type": "markdown",
   "metadata": {},
   "source": [
    "#### Reformatting Counter dicts to DF"
   ]
  },
  {
   "cell_type": "code",
   "execution_count": 10,
   "metadata": {
    "collapsed": true
   },
   "outputs": [],
   "source": [
    "with open('data/tmp/dealer_result_conditional_probs.pkl', 'rb') as tmp_file:\n",
    "    cond_probs = pickle.load(tmp_file)\n",
    "\n",
    "cond_data = {\n",
    "    'start_card': [],\n",
    "    'end_val': [],\n",
    "    'cond_prob': []\n",
    "}\n",
    "\n",
    "for (start_card, end_val), prob in cond_probs.items():\n",
    "    cond_data['start_card'].append(start_card)\n",
    "    cond_data['end_val'].append(end_val)\n",
    "    cond_data['cond_prob'].append(prob)\n",
    "\n",
    "cond_df = pd.DataFrame(cond_data)"
   ]
  },
  {
   "cell_type": "code",
   "execution_count": 11,
   "metadata": {},
   "outputs": [
    {
     "data": {
      "text/html": [
       "<div>\n",
       "<style scoped>\n",
       "    .dataframe tbody tr th:only-of-type {\n",
       "        vertical-align: middle;\n",
       "    }\n",
       "\n",
       "    .dataframe tbody tr th {\n",
       "        vertical-align: top;\n",
       "    }\n",
       "\n",
       "    .dataframe thead th {\n",
       "        text-align: right;\n",
       "    }\n",
       "</style>\n",
       "<table border=\"1\" class=\"dataframe\">\n",
       "  <thead>\n",
       "    <tr style=\"text-align: right;\">\n",
       "      <th></th>\n",
       "      <th>start_card</th>\n",
       "      <th>end_val</th>\n",
       "      <th>cond_prob</th>\n",
       "    </tr>\n",
       "  </thead>\n",
       "  <tbody>\n",
       "    <tr>\n",
       "      <th>0</th>\n",
       "      <td>10</td>\n",
       "      <td>21</td>\n",
       "      <td>0.112462</td>\n",
       "    </tr>\n",
       "    <tr>\n",
       "      <th>1</th>\n",
       "      <td>10</td>\n",
       "      <td>22</td>\n",
       "      <td>0.212971</td>\n",
       "    </tr>\n",
       "    <tr>\n",
       "      <th>2</th>\n",
       "      <td>4</td>\n",
       "      <td>22</td>\n",
       "      <td>0.395648</td>\n",
       "    </tr>\n",
       "    <tr>\n",
       "      <th>3</th>\n",
       "      <td>7</td>\n",
       "      <td>17</td>\n",
       "      <td>0.368201</td>\n",
       "    </tr>\n",
       "    <tr>\n",
       "      <th>4</th>\n",
       "      <td>4</td>\n",
       "      <td>17</td>\n",
       "      <td>0.122806</td>\n",
       "    </tr>\n",
       "    <tr>\n",
       "      <th>5</th>\n",
       "      <td>8</td>\n",
       "      <td>22</td>\n",
       "      <td>0.246267</td>\n",
       "    </tr>\n",
       "    <tr>\n",
       "      <th>6</th>\n",
       "      <td>4</td>\n",
       "      <td>21</td>\n",
       "      <td>0.114214</td>\n",
       "    </tr>\n",
       "    <tr>\n",
       "      <th>7</th>\n",
       "      <td>10</td>\n",
       "      <td>20</td>\n",
       "      <td>0.338669</td>\n",
       "    </tr>\n",
       "    <tr>\n",
       "      <th>8</th>\n",
       "      <td>9</td>\n",
       "      <td>19</td>\n",
       "      <td>0.353142</td>\n",
       "    </tr>\n",
       "    <tr>\n",
       "      <th>9</th>\n",
       "      <td>2</td>\n",
       "      <td>20</td>\n",
       "      <td>0.125689</td>\n",
       "    </tr>\n",
       "    <tr>\n",
       "      <th>10</th>\n",
       "      <td>10</td>\n",
       "      <td>18</td>\n",
       "      <td>0.111802</td>\n",
       "    </tr>\n",
       "    <tr>\n",
       "      <th>11</th>\n",
       "      <td>6</td>\n",
       "      <td>20</td>\n",
       "      <td>0.109947</td>\n",
       "    </tr>\n",
       "    <tr>\n",
       "      <th>12</th>\n",
       "      <td>5</td>\n",
       "      <td>17</td>\n",
       "      <td>0.117927</td>\n",
       "    </tr>\n",
       "    <tr>\n",
       "      <th>13</th>\n",
       "      <td>10</td>\n",
       "      <td>17</td>\n",
       "      <td>0.112085</td>\n",
       "    </tr>\n",
       "    <tr>\n",
       "      <th>14</th>\n",
       "      <td>6</td>\n",
       "      <td>21</td>\n",
       "      <td>0.105765</td>\n",
       "    </tr>\n",
       "    <tr>\n",
       "      <th>15</th>\n",
       "      <td>6</td>\n",
       "      <td>22</td>\n",
       "      <td>0.439018</td>\n",
       "    </tr>\n",
       "    <tr>\n",
       "      <th>16</th>\n",
       "      <td>9</td>\n",
       "      <td>17</td>\n",
       "      <td>0.119800</td>\n",
       "    </tr>\n",
       "    <tr>\n",
       "      <th>17</th>\n",
       "      <td>7</td>\n",
       "      <td>22</td>\n",
       "      <td>0.260497</td>\n",
       "    </tr>\n",
       "    <tr>\n",
       "      <th>18</th>\n",
       "      <td>7</td>\n",
       "      <td>19</td>\n",
       "      <td>0.078351</td>\n",
       "    </tr>\n",
       "    <tr>\n",
       "      <th>19</th>\n",
       "      <td>1</td>\n",
       "      <td>19</td>\n",
       "      <td>0.143424</td>\n",
       "    </tr>\n",
       "    <tr>\n",
       "      <th>20</th>\n",
       "      <td>6</td>\n",
       "      <td>19</td>\n",
       "      <td>0.116362</td>\n",
       "    </tr>\n",
       "    <tr>\n",
       "      <th>21</th>\n",
       "      <td>1</td>\n",
       "      <td>17</td>\n",
       "      <td>0.058209</td>\n",
       "    </tr>\n",
       "    <tr>\n",
       "      <th>22</th>\n",
       "      <td>3</td>\n",
       "      <td>21</td>\n",
       "      <td>0.116396</td>\n",
       "    </tr>\n",
       "    <tr>\n",
       "      <th>23</th>\n",
       "      <td>2</td>\n",
       "      <td>19</td>\n",
       "      <td>0.132089</td>\n",
       "    </tr>\n",
       "    <tr>\n",
       "      <th>24</th>\n",
       "      <td>9</td>\n",
       "      <td>22</td>\n",
       "      <td>0.228566</td>\n",
       "    </tr>\n",
       "    <tr>\n",
       "      <th>25</th>\n",
       "      <td>3</td>\n",
       "      <td>22</td>\n",
       "      <td>0.377641</td>\n",
       "    </tr>\n",
       "    <tr>\n",
       "      <th>26</th>\n",
       "      <td>1</td>\n",
       "      <td>20</td>\n",
       "      <td>0.142727</td>\n",
       "    </tr>\n",
       "    <tr>\n",
       "      <th>27</th>\n",
       "      <td>1</td>\n",
       "      <td>21</td>\n",
       "      <td>0.373678</td>\n",
       "    </tr>\n",
       "    <tr>\n",
       "      <th>28</th>\n",
       "      <td>5</td>\n",
       "      <td>22</td>\n",
       "      <td>0.419029</td>\n",
       "    </tr>\n",
       "    <tr>\n",
       "      <th>29</th>\n",
       "      <td>2</td>\n",
       "      <td>22</td>\n",
       "      <td>0.357568</td>\n",
       "    </tr>\n",
       "    <tr>\n",
       "      <th>30</th>\n",
       "      <td>6</td>\n",
       "      <td>17</td>\n",
       "      <td>0.115194</td>\n",
       "    </tr>\n",
       "    <tr>\n",
       "      <th>31</th>\n",
       "      <td>1</td>\n",
       "      <td>22</td>\n",
       "      <td>0.138693</td>\n",
       "    </tr>\n",
       "    <tr>\n",
       "      <th>32</th>\n",
       "      <td>7</td>\n",
       "      <td>18</td>\n",
       "      <td>0.140571</td>\n",
       "    </tr>\n",
       "    <tr>\n",
       "      <th>33</th>\n",
       "      <td>6</td>\n",
       "      <td>18</td>\n",
       "      <td>0.113714</td>\n",
       "    </tr>\n",
       "    <tr>\n",
       "      <th>34</th>\n",
       "      <td>2</td>\n",
       "      <td>18</td>\n",
       "      <td>0.136094</td>\n",
       "    </tr>\n",
       "    <tr>\n",
       "      <th>35</th>\n",
       "      <td>10</td>\n",
       "      <td>19</td>\n",
       "      <td>0.112012</td>\n",
       "    </tr>\n",
       "    <tr>\n",
       "      <th>36</th>\n",
       "      <td>9</td>\n",
       "      <td>20</td>\n",
       "      <td>0.120419</td>\n",
       "    </tr>\n",
       "    <tr>\n",
       "      <th>37</th>\n",
       "      <td>4</td>\n",
       "      <td>19</td>\n",
       "      <td>0.122765</td>\n",
       "    </tr>\n",
       "    <tr>\n",
       "      <th>38</th>\n",
       "      <td>9</td>\n",
       "      <td>18</td>\n",
       "      <td>0.116743</td>\n",
       "    </tr>\n",
       "    <tr>\n",
       "      <th>39</th>\n",
       "      <td>7</td>\n",
       "      <td>21</td>\n",
       "      <td>0.073951</td>\n",
       "    </tr>\n",
       "    <tr>\n",
       "      <th>40</th>\n",
       "      <td>2</td>\n",
       "      <td>17</td>\n",
       "      <td>0.129008</td>\n",
       "    </tr>\n",
       "    <tr>\n",
       "      <th>41</th>\n",
       "      <td>8</td>\n",
       "      <td>18</td>\n",
       "      <td>0.358072</td>\n",
       "    </tr>\n",
       "    <tr>\n",
       "      <th>42</th>\n",
       "      <td>8</td>\n",
       "      <td>17</td>\n",
       "      <td>0.129938</td>\n",
       "    </tr>\n",
       "    <tr>\n",
       "      <th>43</th>\n",
       "      <td>5</td>\n",
       "      <td>20</td>\n",
       "      <td>0.112482</td>\n",
       "    </tr>\n",
       "    <tr>\n",
       "      <th>44</th>\n",
       "      <td>8</td>\n",
       "      <td>19</td>\n",
       "      <td>0.127149</td>\n",
       "    </tr>\n",
       "    <tr>\n",
       "      <th>45</th>\n",
       "      <td>3</td>\n",
       "      <td>18</td>\n",
       "      <td>0.131036</td>\n",
       "    </tr>\n",
       "    <tr>\n",
       "      <th>46</th>\n",
       "      <td>3</td>\n",
       "      <td>19</td>\n",
       "      <td>0.126975</td>\n",
       "    </tr>\n",
       "    <tr>\n",
       "      <th>47</th>\n",
       "      <td>1</td>\n",
       "      <td>18</td>\n",
       "      <td>0.143269</td>\n",
       "    </tr>\n",
       "    <tr>\n",
       "      <th>48</th>\n",
       "      <td>9</td>\n",
       "      <td>21</td>\n",
       "      <td>0.061330</td>\n",
       "    </tr>\n",
       "    <tr>\n",
       "      <th>49</th>\n",
       "      <td>3</td>\n",
       "      <td>20</td>\n",
       "      <td>0.121759</td>\n",
       "    </tr>\n",
       "    <tr>\n",
       "      <th>50</th>\n",
       "      <td>7</td>\n",
       "      <td>20</td>\n",
       "      <td>0.078429</td>\n",
       "    </tr>\n",
       "    <tr>\n",
       "      <th>51</th>\n",
       "      <td>8</td>\n",
       "      <td>20</td>\n",
       "      <td>0.068913</td>\n",
       "    </tr>\n",
       "    <tr>\n",
       "      <th>52</th>\n",
       "      <td>4</td>\n",
       "      <td>18</td>\n",
       "      <td>0.126569</td>\n",
       "    </tr>\n",
       "    <tr>\n",
       "      <th>53</th>\n",
       "      <td>5</td>\n",
       "      <td>21</td>\n",
       "      <td>0.109241</td>\n",
       "    </tr>\n",
       "    <tr>\n",
       "      <th>54</th>\n",
       "      <td>5</td>\n",
       "      <td>18</td>\n",
       "      <td>0.123303</td>\n",
       "    </tr>\n",
       "    <tr>\n",
       "      <th>55</th>\n",
       "      <td>5</td>\n",
       "      <td>19</td>\n",
       "      <td>0.118017</td>\n",
       "    </tr>\n",
       "    <tr>\n",
       "      <th>56</th>\n",
       "      <td>8</td>\n",
       "      <td>21</td>\n",
       "      <td>0.069660</td>\n",
       "    </tr>\n",
       "    <tr>\n",
       "      <th>57</th>\n",
       "      <td>3</td>\n",
       "      <td>17</td>\n",
       "      <td>0.126194</td>\n",
       "    </tr>\n",
       "    <tr>\n",
       "      <th>58</th>\n",
       "      <td>2</td>\n",
       "      <td>21</td>\n",
       "      <td>0.119552</td>\n",
       "    </tr>\n",
       "    <tr>\n",
       "      <th>59</th>\n",
       "      <td>4</td>\n",
       "      <td>20</td>\n",
       "      <td>0.117998</td>\n",
       "    </tr>\n",
       "  </tbody>\n",
       "</table>\n",
       "</div>"
      ],
      "text/plain": [
       "    start_card  end_val  cond_prob\n",
       "0           10       21   0.112462\n",
       "1           10       22   0.212971\n",
       "2            4       22   0.395648\n",
       "3            7       17   0.368201\n",
       "4            4       17   0.122806\n",
       "5            8       22   0.246267\n",
       "6            4       21   0.114214\n",
       "7           10       20   0.338669\n",
       "8            9       19   0.353142\n",
       "9            2       20   0.125689\n",
       "10          10       18   0.111802\n",
       "11           6       20   0.109947\n",
       "12           5       17   0.117927\n",
       "13          10       17   0.112085\n",
       "14           6       21   0.105765\n",
       "15           6       22   0.439018\n",
       "16           9       17   0.119800\n",
       "17           7       22   0.260497\n",
       "18           7       19   0.078351\n",
       "19           1       19   0.143424\n",
       "20           6       19   0.116362\n",
       "21           1       17   0.058209\n",
       "22           3       21   0.116396\n",
       "23           2       19   0.132089\n",
       "24           9       22   0.228566\n",
       "25           3       22   0.377641\n",
       "26           1       20   0.142727\n",
       "27           1       21   0.373678\n",
       "28           5       22   0.419029\n",
       "29           2       22   0.357568\n",
       "30           6       17   0.115194\n",
       "31           1       22   0.138693\n",
       "32           7       18   0.140571\n",
       "33           6       18   0.113714\n",
       "34           2       18   0.136094\n",
       "35          10       19   0.112012\n",
       "36           9       20   0.120419\n",
       "37           4       19   0.122765\n",
       "38           9       18   0.116743\n",
       "39           7       21   0.073951\n",
       "40           2       17   0.129008\n",
       "41           8       18   0.358072\n",
       "42           8       17   0.129938\n",
       "43           5       20   0.112482\n",
       "44           8       19   0.127149\n",
       "45           3       18   0.131036\n",
       "46           3       19   0.126975\n",
       "47           1       18   0.143269\n",
       "48           9       21   0.061330\n",
       "49           3       20   0.121759\n",
       "50           7       20   0.078429\n",
       "51           8       20   0.068913\n",
       "52           4       18   0.126569\n",
       "53           5       21   0.109241\n",
       "54           5       18   0.123303\n",
       "55           5       19   0.118017\n",
       "56           8       21   0.069660\n",
       "57           3       17   0.126194\n",
       "58           2       21   0.119552\n",
       "59           4       20   0.117998"
      ]
     },
     "execution_count": 11,
     "metadata": {},
     "output_type": "execute_result"
    }
   ],
   "source": [
    "cond_df"
   ]
  },
  {
   "cell_type": "code",
   "execution_count": null,
   "metadata": {
    "collapsed": true
   },
   "outputs": [],
   "source": []
  }
 ],
 "metadata": {
  "kernelspec": {
   "display_name": "Python 3",
   "language": "python",
   "name": "python3"
  },
  "language_info": {
   "codemirror_mode": {
    "name": "ipython",
    "version": 3
   },
   "file_extension": ".py",
   "mimetype": "text/x-python",
   "name": "python",
   "nbconvert_exporter": "python",
   "pygments_lexer": "ipython3",
   "version": "3.6.1"
  }
 },
 "nbformat": 4,
 "nbformat_minor": 4
}
